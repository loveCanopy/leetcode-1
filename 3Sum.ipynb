{
 "cells": [
  {
   "cell_type": "code",
   "execution_count": 207,
   "metadata": {
    "collapsed": false
   },
   "outputs": [
    {
     "data": {
      "text/plain": [
       "undefined"
      ]
     },
     "execution_count": 207,
     "metadata": {},
     "output_type": "execute_result"
    }
   ],
   "source": [
    "/**\n",
    " * @param {number[]} nums\n",
    " * @return {number[][]}\n",
    " */\n",
    "var threeSum = function(nums) {\n",
    "    var X;\n",
    "    var ret = [];\n",
    "    var Has = [];\n",
    "    \n",
    "    for(var i = 0; i < nums.length; i++) {\n",
    "        for(var j = i+1; j < nums.length; j++) {\n",
    "            \n",
    "            X = -nums[i] -nums[j];\n",
    "            var index = nums.indexOf(X);\n",
    "            //console.log('#', i, j, index);\n",
    "\n",
    "            if(-1 != index && i != index && j != index) {\n",
    "                \n",
    "                var solution = [nums[i], nums[j], nums[index]].sort(function(a, b){return a<b?-1:1;})\n",
    "                \n",
    "                //if(solution[0] == -15) console.log(solution);\n",
    "                \n",
    "                var Hash = solution.reduce(function(a, b) {\n",
    "                    return a + b;\n",
    "                }, '');\n",
    "                \n",
    "                \n",
    "                if(-1 != Has.indexOf(Hash)) continue;\n",
    "                \n",
    "                Has.push(Hash);\n",
    "                ret.push(solution);\n",
    "            \n",
    "            }\n",
    "        }\n",
    "    }\n",
    "    return ret;\n",
    "};\n",
    "/*\n",
    "function Array2D(r, init) {\n",
    "    var x = new Array(r);\n",
    "    for (var i = 0; i < r; i++) {\n",
    "        x[i] = Array.apply(null, Array(r)).map(function() { return init });\n",
    "    }\n",
    "    return x;\n",
    "}\n",
    "\n",
    "Array.prototype.indexAll = function(element) {\n",
    "    var indices = [];\n",
    "    var idx = this.indexOf(element);\n",
    "    while (idx != -1) {\n",
    "      indices.push(idx);\n",
    "      idx = this.indexOf(element, idx + 1);\n",
    "    }\n",
    "    return indices;\n",
    "} */"
   ]
  },
  {
   "cell_type": "code",
   "execution_count": 208,
   "metadata": {
    "collapsed": false
   },
   "outputs": [
    {
     "data": {
      "text/plain": [
       "0"
      ]
     },
     "execution_count": 208,
     "metadata": {},
     "output_type": "execute_result"
    }
   ],
   "source": [
    "input = [-13,5,13,12,-2,-11,-1,12,-3,0,-3,-7,-7,-5,-3,-15,-2,14,14,13,6,-11,-11,5,-15,-14,5,-5,-2,0,3,-8,-10,-7,11,-5,-10,-5,-7,-6,2,5,3,2,7,7,3,-10,-2,2,-12,-11,-1,14,10,-9,-15,-8,-7,-9,7,3,-2,5,11,-13,-15,8,-3,-7,-12,7,5,-2,-6,-3,-10,4,2,-5,14,-3,-1,-10,-3,-14,-4,-3,-7,-4,3,8,14,9,-2,10,11,-10,-4,-15,-9,-1,-1,3,4,1,8,1]\n",
    "tS = threeSum(input)\n",
    "z = 0"
   ]
  },
  {
   "cell_type": "code",
   "execution_count": 209,
   "metadata": {
    "collapsed": false
   },
   "outputs": [
    {
     "data": {
      "text/plain": [
       "118"
      ]
     },
     "execution_count": 209,
     "metadata": {},
     "output_type": "execute_result"
    }
   ],
   "source": [
    "tS.length"
   ]
  },
  {
   "cell_type": "code",
   "execution_count": 178,
   "metadata": {
    "collapsed": false
   },
   "outputs": [
    {
     "data": {
      "text/plain": [
       "0"
      ]
     },
     "execution_count": 178,
     "metadata": {},
     "output_type": "execute_result"
    }
   ],
   "source": [
    "output = [[-13,5,8],[-13,0,13],[-13,1,12],[-1,-13,14],[-13,6,7],[-13,10,3],[-13,4,9],[-2,-3,5],[-11,5,6],[-1,-4,5],[-5,0,5],[-7,2,5],[-15,10,5],[-10,5,5],[-14,5,9],[-8,3,5],[-6,1,5],[-12,5,7],[-9,4,5],[-11,-2,13],[-1,-12,13],[-10,-3,13],[-6,-7,13],[-5,-8,13],[-15,13,2],[-14,1,13],[-4,-9,13],[-10,-2,12],[-1,-11,12],[-3,-9,12],[-12,0,12],[-5,-7,12],[-15,12,3],[-14,12,2],[-4,-8,12],[-6,-6,12],[-1,-2,3],[-2,0,2],[-2,-7,9],[-2,-5,7],[-2,-2,4],[-12,-2,14],[-2,-4,6],[-2,-8,10],[-2,-9,11],[-2,-6,8],[-2,1,1],[-11,-3,14],[-11,0,11],[-11,3,8],[-11,2,9],[-11,4,7],[-11,1,10],[-1,-3,4],[-1,0,1],[-1,-7,8],[-1,-5,6],[-1,-8,9],[-1,-10,11],[-1,-6,7],[-1,-1,2],[-1,-9,10],[-3,0,3],[-3,-3,6],[-3,-7,10],[-3,-5,8],[-3,-8,11],[-3,-6,9],[-3,1,2],[-3,-4,7],[-7,0,7],[-14,0,14],[-6,0,6],[-8,0,8],[-10,0,10],[-9,0,9],[-4,0,4],[-7,-7,14],[-7,1,6],[-7,3,4],[-4,-7,11],[-5,-9,14],[-5,-5,10],[-5,2,3],[-5,-6,11],[-5,1,4],[-4,-5,9],[-15,1,14],[-15,6,9],[-15,7,8],[-6,-8,14],[-10,-4,14],[-14,6,8],[-9,3,6],[-8,2,6],[-10,4,6],[-14,7,7],[-14,10,4],[-10,3,7],[-6,3,3],[-12,3,9],[-4,1,3],[-8,1,7],[-8,4,4],[-10,2,8],[-10,1,9],[-12,1,11],[-6,2,4],[-4,-6,10],[-4,2,2],[-9,2,7],[-12,10,2],[-12,4,8],[-9,1,8],[-4,-4,8]]\n",
    "expect = [[-15,1,14],[-15,2,13],[-15,3,12],[-15,4,11],[-15,5,10],[-15,6,9],[-15,7,8],[-14,0,14],[-14,1,13],[-14,2,12],[-14,3,11],[-14,4,10],[-14,5,9],[-14,6,8],[-14,7,7],[-13,-1,14],[-13,0,13],[-13,1,12],[-13,2,11],[-13,3,10],[-13,4,9],[-13,5,8],[-13,6,7],[-12,-2,14],[-12,-1,13],[-12,0,12],[-12,1,11],[-12,2,10],[-12,3,9],[-12,4,8],[-12,5,7],[-11,-3,14],[-11,-2,13],[-11,-1,12],[-11,0,11],[-11,1,10],[-11,2,9],[-11,3,8],[-11,4,7],[-11,5,6],[-10,-4,14],[-10,-3,13],[-10,-2,12],[-10,-1,11],[-10,0,10],[-10,1,9],[-10,2,8],[-10,3,7],[-10,4,6],[-10,5,5],[-9,-5,14],[-9,-4,13],[-9,-3,12],[-9,-2,11],[-9,-1,10],[-9,0,9],[-9,1,8],[-9,2,7],[-9,3,6],[-9,4,5],[-8,-6,14],[-8,-5,13],[-8,-4,12],[-8,-3,11],[-8,-2,10],[-8,-1,9],[-8,0,8],[-8,1,7],[-8,2,6],[-8,3,5],[-8,4,4],[-7,-7,14],[-7,-6,13],[-7,-5,12],[-7,-4,11],[-7,-3,10],[-7,-2,9],[-7,-1,8],[-7,0,7],[-7,1,6],[-7,2,5],[-7,3,4],[-6,-6,12],[-6,-5,11],[-6,-4,10],[-6,-3,9],[-6,-2,8],[-6,-1,7],[-6,0,6],[-6,1,5],[-6,2,4],[-6,3,3],[-5,-5,10],[-5,-4,9],[-5,-3,8],[-5,-2,7],[-5,-1,6],[-5,0,5],[-5,1,4],[-5,2,3],[-4,-4,8],[-4,-3,7],[-4,-2,6],[-4,-1,5],[-4,0,4],[-4,1,3],[-4,2,2],[-3,-3,6],[-3,-2,5],[-3,-1,4],[-3,0,3],[-3,1,2],[-2,-2,4],[-2,-1,3],[-2,0,2],[-2,1,1],[-1,-1,2],[-1,0,1]]\n",
    "z = 0"
   ]
  },
  {
   "cell_type": "code",
   "execution_count": 181,
   "metadata": {
    "collapsed": false
   },
   "outputs": [
    {
     "data": {
      "text/plain": [
       "undefined"
      ]
     },
     "execution_count": 181,
     "metadata": {},
     "output_type": "execute_result"
    }
   ],
   "source": [
    "function sortFunction(a, b) {\n",
    "    a = a.sort()\n",
    "    b = b.sort()\n",
    "    \n",
    "    if (a[0] === b[0]) {\n",
    "        if (a[1] === b[1]) {\n",
    "            if (a[2] === b[2]) {\n",
    "                return 0;\n",
    "            }\n",
    "            else {\n",
    "                return (a[2] < b[2]) ? -1 : 1;\n",
    "            }\n",
    "        }\n",
    "        else {\n",
    "            return (a[1] < b[1]) ? -1 : 1;\n",
    "        }\n",
    "    }\n",
    "    else {\n",
    "        return (a[0] < b[0]) ? -1 : 1;\n",
    "    }\n",
    "}"
   ]
  },
  {
   "cell_type": "code",
   "execution_count": 190,
   "metadata": {
    "collapsed": false
   },
   "outputs": [
    {
     "ename": "TypeError",
     "evalue": "Cannot read property '2' of undefined",
     "output_type": "error",
     "traceback": [
      "TypeError: Cannot read property '2' of undefined",
      "    at evalmachine.<anonymous>:3:1",
      "    at run ([eval]:179:19)",
      "    at onMessage ([eval]:63:41)",
      "    at process.emit (events.js:98:17)",
      "    at handleMessage (child_process.js:322:10)",
      "    at Pipe.channel.onread (child_process.js:349:11)"
     ]
    }
   ],
   "source": [
    "[ -15, 11, 4 ]\n",
    "[ -14, 11, 3 ]\n",
    "[ -13, 11, 2 ]"
   ]
  },
  {
   "cell_type": "code",
   "execution_count": 191,
   "metadata": {
    "collapsed": false
   },
   "outputs": [
    {
     "data": {
      "text/plain": [
       "77"
      ]
     },
     "execution_count": 191,
     "metadata": {},
     "output_type": "execute_result"
    }
   ],
   "source": [
    "input.indexOf(4)"
   ]
  },
  {
   "cell_type": "code",
   "execution_count": 204,
   "metadata": {
    "collapsed": false
   },
   "outputs": [
    {
     "data": {
      "text/plain": [
       "[ -15, 2, 13 ]"
      ]
     },
     "execution_count": 204,
     "metadata": {},
     "output_type": "execute_result"
    }
   ],
   "source": [
    "[ -15, 13, 2 ].sort(function(a, b){return a<b?-1:1;})"
   ]
  },
  {
   "cell_type": "code",
   "execution_count": null,
   "metadata": {
    "collapsed": true
   },
   "outputs": [],
   "source": []
  }
 ],
 "metadata": {
  "kernelspec": {
   "display_name": "Javascript (Node.js)",
   "language": "javascript",
   "name": "javascript"
  },
  "language_info": {
   "file_extension": "js",
   "mimetype": "application/javascript",
   "name": "javascript",
   "version": "0.10.40"
  }
 },
 "nbformat": 4,
 "nbformat_minor": 0
}
