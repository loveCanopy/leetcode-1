{
 "cells": [
  {
   "cell_type": "code",
   "execution_count": 7,
   "metadata": {
    "collapsed": true
   },
   "outputs": [],
   "source": [
    "class Solution(object):\n",
    "    def lengthOfLongestSubstring(self, s):\n",
    "        \"\"\"\n",
    "        :type s: str\n",
    "        :rtype: int\n",
    "        \"\"\"        \n",
    "        from collections import deque\n",
    "        sq = deque(s)\n",
    "        \n",
    "        dq = 0\n",
    "        dt = {}\n",
    "        \n",
    "        \n",
    "        m = 0\n",
    "        i = 0\n",
    "\n",
    "        while True:\n",
    "            print queue\n",
    "            i += 1\n",
    "            if 0 == len(sq):\n",
    "                break\n",
    "            c = sq.popleft()\n",
    "            if c in hasht:\n",
    "                gap = len(queue)\n",
    "                if gap > m:\n",
    "                    m = gap\n",
    "                    \n",
    "                hasht[c] = i\n",
    "                while True:\n",
    "                    if 0 == len(queue):\n",
    "                        break\n",
    "                    \n",
    "                    r = queue.popleft()\n",
    "                    hasht.pop(r, None)\n",
    "                    if r == c:\n",
    "                        break\n",
    "                    \n",
    "                        \n",
    "            hasht[c] = i\n",
    "            queue.append(c)\n",
    "                \n",
    "        for key in hasht:\n",
    "            gap = i - hasht[key]\n",
    "            if gap > m:\n",
    "                m = gap\n",
    "        return m"
   ]
  },
  {
   "cell_type": "code",
   "execution_count": 8,
   "metadata": {
    "collapsed": false
   },
   "outputs": [],
   "source": [
    "b = list(a)"
   ]
  },
  {
   "cell_type": "code",
   "execution_count": 10,
   "metadata": {
    "collapsed": false
   },
   "outputs": [],
   "source": [
    "b.reverse()"
   ]
  },
  {
   "cell_type": "code",
   "execution_count": 11,
   "metadata": {
    "collapsed": false
   },
   "outputs": [
    {
     "data": {
      "text/plain": [
       "'a'"
      ]
     },
     "execution_count": 11,
     "metadata": {},
     "output_type": "execute_result"
    }
   ],
   "source": [
    "b.pop()"
   ]
  },
  {
   "cell_type": "code",
   "execution_count": 28,
   "metadata": {
    "collapsed": false
   },
   "outputs": [],
   "source": [
    "from collections import deque\n",
    "l = deque([0, 1, 2, 3, 4])"
   ]
  },
  {
   "cell_type": "code",
   "execution_count": 185,
   "metadata": {
    "collapsed": false
   },
   "outputs": [],
   "source": [
    "class Solution(object):\n",
    "    def lengthOfLongestSubstring(self, s):\n",
    "        \"\"\"\n",
    "        :type s: str\n",
    "        :rtype: int\n",
    "        \"\"\"        \n",
    "        from collections import deque\n",
    "        sq = deque(s)\n",
    "        \n",
    "        queue = deque()\n",
    "        hasht = dict()\n",
    "        \n",
    "        \n",
    "        m = 0\n",
    "        i = 0\n",
    "\n",
    "        while True:\n",
    "            print queue\n",
    "            i += 1\n",
    "            if 0 == len(sq):\n",
    "                break\n",
    "            c = sq.popleft()\n",
    "            if c in hasht:\n",
    "                gap = len(queue)\n",
    "                if gap > m:\n",
    "                    m = gap\n",
    "                    \n",
    "                hasht[c] = i\n",
    "                while True:\n",
    "                    if 0 == len(queue):\n",
    "                        break\n",
    "                    \n",
    "                    r = queue.popleft()\n",
    "                    hasht.pop(r, None)\n",
    "                    if r == c:\n",
    "                        break\n",
    "                    \n",
    "                        \n",
    "            hasht[c] = i\n",
    "            queue.append(c)\n",
    "                \n",
    "        for key in hasht:\n",
    "            gap = i - hasht[key]\n",
    "            if gap > m:\n",
    "                m = gap\n",
    "        return m"
   ]
  },
  {
   "cell_type": "code",
   "execution_count": 270,
   "metadata": {
    "collapsed": false
   },
   "outputs": [],
   "source": [
    "sl = Solution()"
   ]
  },
  {
   "cell_type": "code",
   "execution_count": null,
   "metadata": {
    "collapsed": true
   },
   "outputs": [],
   "source": []
  },
  {
   "cell_type": "code",
   "execution_count": 274,
   "metadata": {
    "collapsed": false
   },
   "outputs": [
    {
     "name": "stdout",
     "output_type": "stream",
     "text": [
      "x defaultdict(<function <lambda> at 0x7f0d6c0d8ed8>, {'x': 0}) 0 -1\n",
      "a defaultdict(<function <lambda> at 0x7f0d6c0d8ed8>, {'a': 1, 'x': 0}) 1 -1\n",
      "b defaultdict(<function <lambda> at 0x7f0d6c0d8ed8>, {'a': 1, 'x': 0, 'b': 2}) 2 -1\n",
      "a defaultdict(<function <lambda> at 0x7f0d6c0d8ed8>, {'a': 3, 'x': -1, 'b': 2}) 3 1\n",
      "b defaultdict(<function <lambda> at 0x7f0d6c0d8ed8>, {'a': 3, 'x': -1, 'b': 4}) 4 2\n",
      "a defaultdict(<function <lambda> at 0x7f0d6c0d8ed8>, {'a': 5, 'x': -1, 'b': 4}) 5 3\n",
      "x defaultdict(<function <lambda> at 0x7f0d6c0d8ed8>, {'a': 5, 'x': 6, 'b': 4}) 6 3\n"
     ]
    },
    {
     "data": {
      "text/plain": [
       "3"
      ]
     },
     "execution_count": 274,
     "metadata": {},
     "output_type": "execute_result"
    }
   ],
   "source": [
    "sl.lengthOfLongestSubstring('xababax')"
   ]
  },
  {
   "cell_type": "code",
   "execution_count": 189,
   "metadata": {
    "collapsed": true
   },
   "outputs": [],
   "source": [
    "from collections import defaultdict\n",
    "da = defaultdict(lambda: -1)"
   ]
  },
  {
   "cell_type": "code",
   "execution_count": 192,
   "metadata": {
    "collapsed": false
   },
   "outputs": [
    {
     "data": {
      "text/plain": [
       "-1"
      ]
     },
     "execution_count": 192,
     "metadata": {},
     "output_type": "execute_result"
    }
   ],
   "source": [
    "da['dsfs']"
   ]
  },
  {
   "cell_type": "code",
   "execution_count": null,
   "metadata": {
    "collapsed": true
   },
   "outputs": [],
   "source": []
  },
  {
   "cell_type": "code",
   "execution_count": null,
   "metadata": {
    "collapsed": true
   },
   "outputs": [],
   "source": []
  },
  {
   "cell_type": "code",
   "execution_count": 267,
   "metadata": {
    "collapsed": false
   },
   "outputs": [],
   "source": [
    "class Solution(object):\n",
    "    def lengthOfLongestSubstring(self, s):\n",
    "        \"\"\"\n",
    "        :type s: str\n",
    "        :rtype: int\n",
    "        \"\"\"        \n",
    "        string_lngth = len(s)\n",
    "        \n",
    "        from collections import defaultdict\n",
    "        alpha_table = defaultdict(lambda: -1)\n",
    "        \n",
    "        max_tmp = 0\n",
    "        index = -1\n",
    "        substr_pt = -1\n",
    "        \n",
    "        while True:\n",
    "            index += 1\n",
    "            if not (index < string_lngth):\n",
    "                break\n",
    "                \n",
    "            c = s[index]\n",
    "            \n",
    "            \n",
    "            if -1 == alpha_table[c]:  \n",
    "                alpha_table[c] = index\n",
    "            \n",
    "                gap = index - substr_pt\n",
    "                if gap > max_tmp:\n",
    "                    max_tmp = gap\n",
    "\n",
    "            else:\n",
    "                tmp = alpha_table[c]\n",
    "                \n",
    "                for char in s[substr_pt+1:alpha_table[c]+1]:\n",
    "                    alpha_table[char] = -1\n",
    "                    \n",
    "                substr_pt = tmp\n",
    "                alpha_table[c] = index\n",
    "            \n",
    "            print c, alpha_table, index, substr_pt\n",
    "                \n",
    "        return max_tmp"
   ]
  },
  {
   "cell_type": "code",
   "execution_count": 80,
   "metadata": {
    "collapsed": true
   },
   "outputs": [],
   "source": [
    "b = a = 3"
   ]
  },
  {
   "cell_type": "code",
   "execution_count": 231,
   "metadata": {
    "collapsed": false
   },
   "outputs": [],
   "source": [
    "index = 1\n",
    "string_lngth = 2"
   ]
  },
  {
   "cell_type": "code",
   "execution_count": 237,
   "metadata": {
    "collapsed": false
   },
   "outputs": [
    {
     "ename": "SyntaxError",
     "evalue": "invalid syntax (<ipython-input-237-233063b61340>, line 1)",
     "output_type": "error",
     "traceback": [
      "\u001b[1;36m  File \u001b[1;32m\"<ipython-input-237-233063b61340>\"\u001b[1;36m, line \u001b[1;32m1\u001b[0m\n\u001b[1;33m    x = string_lngth > (index = 1 + index)\u001b[0m\n\u001b[1;37m                              ^\u001b[0m\n\u001b[1;31mSyntaxError\u001b[0m\u001b[1;31m:\u001b[0m invalid syntax\n"
     ]
    }
   ],
   "source": [
    "x = string_lngth > (index = 1 + index)"
   ]
  },
  {
   "cell_type": "code",
   "execution_count": null,
   "metadata": {
    "collapsed": true
   },
   "outputs": [],
   "source": []
  }
 ],
 "metadata": {
  "kernelspec": {
   "display_name": "Python 2",
   "language": "python",
   "name": "python2"
  },
  "language_info": {
   "codemirror_mode": {
    "name": "ipython",
    "version": 2
   },
   "file_extension": ".py",
   "mimetype": "text/x-python",
   "name": "python",
   "nbconvert_exporter": "python",
   "pygments_lexer": "ipython2",
   "version": "2.7.6"
  }
 },
 "nbformat": 4,
 "nbformat_minor": 0
}
