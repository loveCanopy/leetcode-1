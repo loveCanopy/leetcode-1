{
 "cells": [
  {
   "cell_type": "code",
   "execution_count": 57,
   "metadata": {
    "collapsed": false
   },
   "outputs": [],
   "source": [
    "class Solution(object):\n",
    "    def wordBreak(self, s, wordDict):\n",
    "        \"\"\"\n",
    "        :type s: str\n",
    "        :type wordDict: Set[str]\n",
    "        :rtype: bool\n",
    "        \"\"\"\n",
    "        dp = [False] * (len(s) + 1)\n",
    "        dp[0] = True\n",
    "        \n",
    "        for i in range(len(s)):\n",
    "            for j in reversed(range(0, i+1)):\n",
    "                print '#', s[j:i+1]\n",
    "                if dp[j] and s[j:i+1] in wordDict:\n",
    "                    dp[i+1] = True\n",
    "                    print '$', dp\n",
    "                    break\n",
    "                    \n",
    "        return dp[-1]"
   ]
  },
  {
   "cell_type": "code",
   "execution_count": 101,
   "metadata": {
    "collapsed": true
   },
   "outputs": [],
   "source": [
    "sl = Solution()"
   ]
  },
  {
   "cell_type": "code",
   "execution_count": 102,
   "metadata": {
    "collapsed": false
   },
   "outputs": [
    {
     "data": {
      "text/plain": [
       "['leet code']"
      ]
     },
     "execution_count": 102,
     "metadata": {},
     "output_type": "execute_result"
    }
   ],
   "source": [
    "sl.wordBreak(\"leetcode\",[\"leet\",\"code\"])"
   ]
  },
  {
   "cell_type": "code",
   "execution_count": 100,
   "metadata": {
    "collapsed": false
   },
   "outputs": [],
   "source": [
    "class Solution(object):\n",
    "    def wordBreak(self, s, wordDict):\n",
    "        \"\"\"\n",
    "        :type s: str\n",
    "        :type wordDict: Set[str]\n",
    "        :rtype: bool\n",
    "        \"\"\"\n",
    "        from collections import defaultdict\n",
    "        dp = defaultdict(lambda: [])\n",
    "        dp[0].append(-1)\n",
    "        \n",
    "        for i in range(len(s)):\n",
    "            for j in range(i, len(s)):\n",
    "                #print \"$\", i, j, dp[i], s[i:j]\n",
    "                if not dp[i] == [] and s[i:j+1] in wordDict:\n",
    "                    #print \"#\", dp, s[i:j]\n",
    "                    dp[j+1].append(i)\n",
    "                    \n",
    "        self.dp = dp\n",
    "        self.s  = s\n",
    "        \n",
    "        return [' '.join(r) for r in self.Construct(len(s))]\n",
    "                    \n",
    "    def Construct(self, j):\n",
    "        if 0 == j:\n",
    "            return [[]]\n",
    "        \n",
    "        #print j\n",
    "        nextList = self.dp[j]\n",
    "        ret = []\n",
    "        for nextj in nextList:\n",
    "            word = self.s[nextj:j]\n",
    "            for l in self.Construct(nextj):\n",
    "                l.append(word)\n",
    "                ret.append(l)\n",
    "        return ret"
   ]
  },
  {
   "cell_type": "code",
   "execution_count": 80,
   "metadata": {
    "collapsed": true
   },
   "outputs": [],
   "source": [
    "dp = [ [] ]* (len(s) + 1) "
   ]
  },
  {
   "cell_type": "code",
   "execution_count": 10,
   "metadata": {
    "collapsed": false
   },
   "outputs": [],
   "source": [
    "s='leetcode'"
   ]
  },
  {
   "cell_type": "code",
   "execution_count": 49,
   "metadata": {
    "collapsed": false
   },
   "outputs": [
    {
     "data": {
      "text/plain": [
       "'code'"
      ]
     },
     "execution_count": 49,
     "metadata": {},
     "output_type": "execute_result"
    }
   ],
   "source": [
    "s[4:8]"
   ]
  },
  {
   "cell_type": "code",
   "execution_count": 34,
   "metadata": {
    "collapsed": false
   },
   "outputs": [],
   "source": [
    "from collections import defaultdict\n",
    "dp = defaultdict(lambda: [])"
   ]
  },
  {
   "cell_type": "code",
   "execution_count": 38,
   "metadata": {
    "collapsed": false
   },
   "outputs": [
    {
     "data": {
      "text/plain": [
       "True"
      ]
     },
     "execution_count": 38,
     "metadata": {},
     "output_type": "execute_result"
    }
   ],
   "source": [
    "dp['dsfs'] == []"
   ]
  },
  {
   "cell_type": "code",
   "execution_count": 30,
   "metadata": {
    "collapsed": false
   },
   "outputs": [
    {
     "data": {
      "text/plain": [
       "[]"
      ]
     },
     "execution_count": 30,
     "metadata": {},
     "output_type": "execute_result"
    }
   ],
   "source": [
    "a.keys()"
   ]
  },
  {
   "cell_type": "code",
   "execution_count": 120,
   "metadata": {
    "collapsed": false
   },
   "outputs": [],
   "source": [
    "class Solution(object):\n",
    "    def wordBreak(self, s, wordDict):\n",
    "        memo = {len(s): ['']}\n",
    "        def sentences(i):\n",
    "            #print i\n",
    "            if i not in memo:\n",
    "                for j in range(i+1, len(s)+1):\n",
    "                    if s[i:j] in wordDict:\n",
    "                        memo[i] = [s[i:j] + (tail and ' ' + tail)\n",
    "                           for tail in sentences(j)]\n",
    "            \n",
    "            #print memo\n",
    "            return memo[i]\n",
    "        return sentences(0)"
   ]
  },
  {
   "cell_type": "code",
   "execution_count": 121,
   "metadata": {
    "collapsed": false
   },
   "outputs": [
    {
     "data": {
      "text/plain": [
       "['sand dog']"
      ]
     },
     "execution_count": 121,
     "metadata": {},
     "output_type": "execute_result"
    }
   ],
   "source": [
    "sl = Solution()\n",
    "sl.wordBreak(\"catsanddog\",[\"cat\", \"cats\", \"and\", \"sand\", \"dog\"])"
   ]
  },
  {
   "cell_type": "code",
   "execution_count": 115,
   "metadata": {
    "collapsed": false
   },
   "outputs": [
    {
     "name": "stdout",
     "output_type": "stream",
     "text": [
      "> <ipython-input-113-20eb501a0672>(3)wordBreak()\n",
      "      2     def wordBreak(self, s, wordDict):\n",
      "----> 3         memo = {len(s): ['']}\n",
      "      4         def sentences(i):\n",
      "\n",
      "ipdb> n\n",
      "> <ipython-input-113-20eb501a0672>(4)wordBreak()\n",
      "      3         memo = {len(s): ['']}\n",
      "----> 4         def sentences(i):\n",
      "      5             #print i\n",
      "\n",
      "ipdb> n\n",
      "> <ipython-input-113-20eb501a0672>(14)wordBreak()\n",
      "     12             print memo\n",
      "     13             return memo[i]\n",
      "---> 14         return sentences(0)\n",
      "\n",
      "ipdb> s\n",
      "--Call--\n",
      "> <ipython-input-113-20eb501a0672>(4)sentences()\n",
      "      3         memo = {len(s): ['']}\n",
      "----> 4         def sentences(i):\n",
      "      5             #print i\n",
      "\n",
      "ipdb> s\n",
      "> <ipython-input-113-20eb501a0672>(6)sentences()\n",
      "      5             #print i\n",
      "----> 6             if i not in memo:\n",
      "      7                 memo[i] = [s[i:j] + (tail and ' ' + tail)\n",
      "\n",
      "ipdb> s\n",
      "> <ipython-input-113-20eb501a0672>(7)sentences()\n",
      "      6             if i not in memo:\n",
      "----> 7                 memo[i] = [s[i:j] + (tail and ' ' + tail)\n",
      "      8                            for j in range(i+1, len(s)+1)\n",
      "\n",
      "ipdb> p memo\n",
      "{10: ['']}\n",
      "ipdb> i\n",
      "0\n",
      "ipdb> stop\n",
      "*** NameError: name 'stop' is not defined\n",
      "ipdb> c\n",
      "{10: ['']}\n",
      "{10: [''], 7: ['dog']}\n",
      "{10: [''], 3: ['sand dog'], 7: ['dog']}\n",
      "{10: [''], 3: ['sand dog'], 7: ['dog']}\n",
      "{10: [''], 3: ['sand dog'], 4: ['and dog'], 7: ['dog']}\n",
      "{0: ['cat sand dog', 'cats and dog'], 10: [''], 3: ['sand dog'], 4: ['and dog'], 7: ['dog']}\n"
     ]
    },
    {
     "data": {
      "text/plain": [
       "['cat sand dog', 'cats and dog']"
      ]
     },
     "execution_count": 115,
     "metadata": {},
     "output_type": "execute_result"
    }
   ],
   "source": [
    "from IPython.core.debugger import Pdb\n",
    "pdb = Pdb()\n",
    "pdb.runcall(sl.wordBreak,\"catsanddog\",[\"cat\", \"cats\", \"and\", \"sand\", \"dog\"])"
   ]
  },
  {
   "cell_type": "code",
   "execution_count": null,
   "metadata": {
    "collapsed": true
   },
   "outputs": [],
   "source": []
  }
 ],
 "metadata": {
  "kernelspec": {
   "display_name": "Python 2",
   "language": "python",
   "name": "python2"
  },
  "language_info": {
   "codemirror_mode": {
    "name": "ipython",
    "version": 2
   },
   "file_extension": ".py",
   "mimetype": "text/x-python",
   "name": "python",
   "nbconvert_exporter": "python",
   "pygments_lexer": "ipython2",
   "version": "2.7.6"
  }
 },
 "nbformat": 4,
 "nbformat_minor": 0
}
