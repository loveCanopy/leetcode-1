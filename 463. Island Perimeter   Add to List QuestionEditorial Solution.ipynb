{
 "cells": [
  {
   "cell_type": "code",
   "execution_count": 82,
   "metadata": {
    "collapsed": false
   },
   "outputs": [],
   "source": [
    "g = [[0,1,0,0],\n",
    " [1,1,1,0],\n",
    " [0,1,0,0],\n",
    " [1,1,0,0]]"
   ]
  },
  {
   "cell_type": "code",
   "execution_count": 83,
   "metadata": {
    "collapsed": true
   },
   "outputs": [],
   "source": [
    "import operator"
   ]
  },
  {
   "cell_type": "code",
   "execution_count": 84,
   "metadata": {
    "collapsed": false
   },
   "outputs": [
    {
     "ename": "TypeError",
     "evalue": "unsupported operand type(s) for +: 'int' and 'list'",
     "output_type": "error",
     "traceback": [
      "\u001b[1;31m---------------------------------------------------------------------------\u001b[0m",
      "\u001b[1;31mTypeError\u001b[0m                                 Traceback (most recent call last)",
      "\u001b[1;32m<ipython-input-84-d1dbfa3f04c4>\u001b[0m in \u001b[0;36m<module>\u001b[1;34m()\u001b[0m\n\u001b[1;32m----> 1\u001b[1;33m \u001b[0msum\u001b[0m\u001b[1;33m(\u001b[0m\u001b[0mmap\u001b[0m\u001b[1;33m(\u001b[0m\u001b[0moperator\u001b[0m\u001b[1;33m.\u001b[0m\u001b[0mne\u001b[0m\u001b[1;33m,\u001b[0m \u001b[1;33m[\u001b[0m\u001b[1;36m0\u001b[0m\u001b[1;33m]\u001b[0m \u001b[1;33m+\u001b[0m \u001b[0mrow\u001b[0m\u001b[1;33m,\u001b[0m \u001b[0mrow\u001b[0m \u001b[1;33m+\u001b[0m \u001b[1;33m[\u001b[0m\u001b[1;36m0\u001b[0m\u001b[1;33m]\u001b[0m\u001b[1;33m)\u001b[0m \u001b[1;32mfor\u001b[0m \u001b[0mrow\u001b[0m \u001b[1;32min\u001b[0m \u001b[0mg\u001b[0m \u001b[1;33m+\u001b[0m \u001b[0mmap\u001b[0m\u001b[1;33m(\u001b[0m\u001b[0mlist\u001b[0m\u001b[1;33m,\u001b[0m \u001b[0mzip\u001b[0m\u001b[1;33m(\u001b[0m\u001b[1;33m*\u001b[0m\u001b[0mg\u001b[0m\u001b[1;33m)\u001b[0m\u001b[1;33m)\u001b[0m\u001b[1;33m)\u001b[0m\u001b[1;33m\u001b[0m\u001b[0m\n\u001b[0m",
      "\u001b[1;31mTypeError\u001b[0m: unsupported operand type(s) for +: 'int' and 'list'"
     ]
    }
   ],
   "source": [
    "sum(map(operator.ne, [0] + row, row + [0]) for row in g + map(list, zip(*g)))"
   ]
  },
  {
   "cell_type": "code",
   "execution_count": 71,
   "metadata": {
    "collapsed": false
   },
   "outputs": [],
   "source": [
    "class Solution(object):\n",
    "    def find1(self, g):\n",
    "        for i in range(len(g)):\n",
    "            for j in range(len(g[i])):\n",
    "                if 1 == g[i][j]:\n",
    "                    return i, j\n",
    "        return None\n",
    "        \n",
    "    def Comp(self, i, j, mask): #mask = [shang xia zuo you] 0 1 2 3\n",
    "        print i, j\n",
    "        \n",
    "        M = []\n",
    "        self.g[i][j] = -1\n",
    "        if 0 != mask:\n",
    "            if i-1 == -1 or 0 == self.g[i-1][j]:\n",
    "                M.append(1)\n",
    "            elif -1 == self.g[i-1][j]:\n",
    "                M.append(0)\n",
    "            else:\n",
    "                M.append( self.Comp(i-1, j, 1) )\n",
    "        if 1 != mask:\n",
    "            if i+1 == self.bndi or 0 == self.g[i+1][j]:\n",
    "                M.append(1)\n",
    "            elif -1 == self.g[i+1][j]:\n",
    "                M.append(0)\n",
    "            else:\n",
    "                M.append( self.Comp(i+1, j, 0) )\n",
    "        if 2 != mask:\n",
    "            if j-1 == -1 or 0 == self.g[i][j-1]:\n",
    "                M.append(1)\n",
    "            elif -1 == self.g[i][j-1]:\n",
    "                M.append(0)\n",
    "            else:\n",
    "                M.append( self.Comp(i, j-1, 3) )\n",
    "        if 3 != mask:\n",
    "            if j+1 == self.bndj or 0 == self.g[i][j+1]:\n",
    "                M.append(1)\n",
    "            elif -1 == self.g[i][j+1]:\n",
    "                M.append(0)\n",
    "            else:\n",
    "                M.append( self.Comp(i, j+1, 2) )\n",
    "        return sum(M)\n",
    "    def islandPerimeter(self, grid):\n",
    "        \"\"\"\n",
    "        :type grid: List[List[int]]\n",
    "        :rtype: int\n",
    "        \"\"\"\n",
    "        self.g = grid\n",
    "        lsl = self.find1(grid)\n",
    "        if None == lsl:\n",
    "            return 0\n",
    "        \n",
    "        self.bndi = len(grid)\n",
    "        self.bndj = len(grid[0])\n",
    "        \n",
    "        i, j = lsl\n",
    "        return self.Comp(i, j, 0)+1"
   ]
  },
  {
   "cell_type": "code",
   "execution_count": 72,
   "metadata": {
    "collapsed": true
   },
   "outputs": [],
   "source": [
    "sl = Solution()"
   ]
  },
  {
   "cell_type": "code",
   "execution_count": 73,
   "metadata": {
    "collapsed": false
   },
   "outputs": [
    {
     "data": {
      "text/plain": [
       "[[1, 1], [0, 1]]"
      ]
     },
     "execution_count": 73,
     "metadata": {},
     "output_type": "execute_result"
    }
   ],
   "source": [
    "map(list, zip(*g))"
   ]
  },
  {
   "cell_type": "code",
   "execution_count": 62,
   "metadata": {
    "collapsed": true
   },
   "outputs": [],
   "source": [
    "class Solution(object):\n",
    "    def islandPerimeter(self, grid):\n",
    "        \"\"\"\n",
    "        :type grid: List[List[int]]\n",
    "        :rtype: int\n",
    "        \"\"\"\n",
    "        I = len(grid)\n",
    "        if I == 0:\n",
    "            return 0\n",
    "        J = len(grid[0])\n",
    "        \n",
    "        flip = 0\n",
    "        for i in range(I):\n",
    "            status = 0 \n",
    "            for j in range(J):\n",
    "                if status != grid[i][j]:\n",
    "                    flip += 1\n",
    "                    status = grid[i][j]\n",
    "            flip += grid[i][j]\n",
    "            \n",
    "        for j in range(J):\n",
    "            status = 0 \n",
    "            for i in range(I):\n",
    "                if status != grid[i][j]:\n",
    "                    flip += 1\n",
    "                    status = grid[i][j]\n",
    "            flip += grid[i][j]\n",
    "        return flip"
   ]
  },
  {
   "cell_type": "code",
   "execution_count": null,
   "metadata": {
    "collapsed": true
   },
   "outputs": [],
   "source": []
  }
 ],
 "metadata": {
  "kernelspec": {
   "display_name": "Python 2",
   "language": "python",
   "name": "python2"
  },
  "language_info": {
   "codemirror_mode": {
    "name": "ipython",
    "version": 2
   },
   "file_extension": ".py",
   "mimetype": "text/x-python",
   "name": "python",
   "nbconvert_exporter": "python",
   "pygments_lexer": "ipython2",
   "version": "2.7.10"
  }
 },
 "nbformat": 4,
 "nbformat_minor": 0
}
