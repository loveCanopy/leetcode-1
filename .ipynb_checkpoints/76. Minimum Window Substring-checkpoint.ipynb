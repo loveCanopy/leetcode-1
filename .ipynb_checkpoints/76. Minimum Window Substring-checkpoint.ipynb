{
 "cells": [
  {
   "cell_type": "code",
   "execution_count": 41,
   "metadata": {
    "collapsed": false
   },
   "outputs": [],
   "source": [
    "S = \"ADOBECODEBANC\"\n",
    "T = \"ABBC\""
   ]
  },
  {
   "cell_type": "code",
   "execution_count": 50,
   "metadata": {
    "collapsed": true
   },
   "outputs": [],
   "source": [
    "S = \"aa\"\n",
    "T = \"aa\""
   ]
  },
  {
   "cell_type": "code",
   "execution_count": 42,
   "metadata": {
    "collapsed": false,
    "scrolled": false
   },
   "outputs": [
    {
     "name": "stdout",
     "output_type": "stream",
     "text": [
      "# 0\n",
      "{'A': deque([]), 'C': deque([]), 'B': deque([])}\n",
      "{'A': 1, 'C': 1, 'B': 2}\n",
      "4\n",
      "set([])\n",
      "deque([])\n",
      "# 1\n",
      "{'A': deque([0]), 'C': deque([]), 'B': deque([])}\n",
      "{'A': 0, 'C': 1, 'B': 2}\n",
      "3\n",
      "set([0])\n",
      "deque([('A', 0)])\n",
      "# 2\n",
      "{'A': deque([0]), 'C': deque([]), 'B': deque([])}\n",
      "{'A': 0, 'C': 1, 'B': 2}\n",
      "3\n",
      "set([0])\n",
      "deque([('A', 0)])\n",
      "# 3\n",
      "{'A': deque([0]), 'C': deque([]), 'B': deque([])}\n",
      "{'A': 0, 'C': 1, 'B': 2}\n",
      "3\n",
      "set([0])\n",
      "deque([('A', 0)])\n",
      "# 4\n",
      "{'A': deque([0]), 'C': deque([]), 'B': deque([3])}\n",
      "{'A': 0, 'C': 1, 'B': 1}\n",
      "2\n",
      "set([0, 3])\n",
      "deque([('A', 0), ('B', 3)])\n",
      "# 5\n",
      "{'A': deque([0]), 'C': deque([]), 'B': deque([3])}\n",
      "{'A': 0, 'C': 1, 'B': 1}\n",
      "2\n",
      "set([0, 3])\n",
      "deque([('A', 0), ('B', 3)])\n",
      "# 6\n",
      "{'A': deque([0]), 'C': deque([5]), 'B': deque([3])}\n",
      "{'A': 0, 'C': 0, 'B': 1}\n",
      "1\n",
      "set([0, 3, 5])\n",
      "deque([('A', 0), ('B', 3), ('C', 5)])\n",
      "# 7\n",
      "{'A': deque([0]), 'C': deque([5]), 'B': deque([3])}\n",
      "{'A': 0, 'C': 0, 'B': 1}\n",
      "1\n",
      "set([0, 3, 5])\n",
      "deque([('A', 0), ('B', 3), ('C', 5)])\n",
      "# 8\n",
      "{'A': deque([0]), 'C': deque([5]), 'B': deque([3])}\n",
      "{'A': 0, 'C': 0, 'B': 1}\n",
      "1\n",
      "set([0, 3, 5])\n",
      "deque([('A', 0), ('B', 3), ('C', 5)])\n",
      "# 9\n",
      "{'A': deque([0]), 'C': deque([5]), 'B': deque([3])}\n",
      "{'A': 0, 'C': 0, 'B': 1}\n",
      "1\n",
      "set([0, 3, 5])\n",
      "deque([('A', 0), ('B', 3), ('C', 5)])\n",
      "# 10\n",
      "{'A': deque([0]), 'C': deque([5]), 'B': deque([3, 9])}\n",
      "{'A': 0, 'C': 0, 'B': 0}\n",
      "0\n",
      "set([0, 9, 3, 5])\n",
      "deque([('A', 0), ('B', 3), ('C', 5), ('B', 9)])\n",
      "# 11\n",
      "{'A': deque([10]), 'C': deque([5]), 'B': deque([3, 9])}\n",
      "{'A': 0, 'C': 0, 'B': 0}\n",
      "0\n",
      "set([9, 10, 3, 5])\n",
      "deque([('B', 3), ('C', 5), ('B', 9), ('A', 10)])\n",
      "# 12\n",
      "{'A': deque([10]), 'C': deque([5]), 'B': deque([3, 9])}\n",
      "{'A': 0, 'C': 0, 'B': 0}\n",
      "0\n",
      "set([9, 10, 3, 5])\n",
      "deque([('B', 3), ('C', 5), ('B', 9), ('A', 10)])\n"
     ]
    },
    {
     "data": {
      "text/plain": [
       "'BECODEBA'"
      ]
     },
     "execution_count": 42,
     "metadata": {},
     "output_type": "execute_result"
    }
   ],
   "source": [
    "sl = Solution()\n",
    "sl.minWindow(S, T)"
   ]
  },
  {
   "cell_type": "code",
   "execution_count": 40,
   "metadata": {
    "collapsed": false
   },
   "outputs": [],
   "source": [
    "class Solution(object):\n",
    "    def minWindow(self, s, t):\n",
    "        from collections import deque\n",
    "        \"\"\"\n",
    "        :type s: str\n",
    "        :type t: str\n",
    "        :rtype: str\n",
    "        \"\"\"\n",
    "        T = {tt:deque() for tt in t}\n",
    "        # T[字母] 对应的 index 列表\n",
    "        \n",
    "        Tcount = {}\n",
    "        # T[字母] 对应的 index 列表长度（应对重复）\n",
    "        for tt in t:\n",
    "            if tt in Tcount:\n",
    "                Tcount[tt] += 1\n",
    "            else:\n",
    "                Tcount[tt] = 1\n",
    "        \n",
    "        Tsum = len(t)\n",
    "        # T 是否全部被匹配\n",
    "        \n",
    "        Tset = set()\n",
    "        # set(index1, index2 ...) 记录 全部进队列 index\n",
    "        # 根据 T 进行删除操作\n",
    "        \n",
    "        Td = deque()\n",
    "        # 顺序队列 [['A', 2], ['B', 6] ...]\n",
    "        ##### ########## #####\n",
    "        \n",
    "        \n",
    "        \n",
    "        l = -1\n",
    "        h = -1\n",
    "        \n",
    "        length = len(s)\n",
    "        num = length+1\n",
    "        for i in range(length):\n",
    "            \n",
    "            \n",
    "            print '#', i\n",
    "            print T\n",
    "            print Tcount\n",
    "            print Tsum\n",
    "            print Tset\n",
    "            print Td\n",
    "            \n",
    "            \n",
    "            if s[i] in T:\n",
    "                \n",
    "                Tset.add(i)\n",
    "                Td.append( (s[i], i) )\n",
    "                \n",
    "                T[s[i]].append(i)\n",
    "                if Tcount[s[i]] > 0:\n",
    "                    Tcount[s[i]] -= 1\n",
    "                    Tsum -= 1\n",
    "                else:\n",
    "                    index = T[s[i]].popleft()\n",
    "                    Tset.remove(index)\n",
    "                    \n",
    "                                \n",
    "                # relive\n",
    "                while len(Td) > 0:\n",
    "                    if Td[0][1] in Tset:\n",
    "                        break\n",
    "                    else:\n",
    "                        Td.popleft()\n",
    "            \n",
    "            if 0 == Tsum and num > Td[-1][1] - Td[0][1]:\n",
    "                num = Td[-1][1] - Td[0][1]\n",
    "                l = Td[0][1]\n",
    "                h = Td[-1][1]\n",
    "\n",
    "        return s[l:h+1]"
   ]
  },
  {
   "cell_type": "code",
   "execution_count": 5,
   "metadata": {
    "collapsed": false
   },
   "outputs": [],
   "source": [
    "T = {tt:-1 for tt in [1,2]}"
   ]
  },
  {
   "cell_type": "code",
   "execution_count": 7,
   "metadata": {
    "collapsed": false
   },
   "outputs": [],
   "source": [
    "from collections import OrderedDict"
   ]
  },
  {
   "cell_type": "code",
   "execution_count": 14,
   "metadata": {
    "collapsed": false
   },
   "outputs": [],
   "source": [
    "a = OrderedDict([('x', 11), ('y', 22)])"
   ]
  },
  {
   "cell_type": "code",
   "execution_count": 16,
   "metadata": {
    "collapsed": false
   },
   "outputs": [
    {
     "ename": "KeyError",
     "evalue": "0",
     "output_type": "error",
     "traceback": [
      "\u001b[1;31m---------------------------------------------------------------------------\u001b[0m",
      "\u001b[1;31mKeyError\u001b[0m                                  Traceback (most recent call last)",
      "\u001b[1;32m<ipython-input-16-5ccf417d7af1>\u001b[0m in \u001b[0;36m<module>\u001b[1;34m()\u001b[0m\n\u001b[1;32m----> 1\u001b[1;33m \u001b[0ma\u001b[0m\u001b[1;33m[\u001b[0m\u001b[1;36m0\u001b[0m\u001b[1;33m]\u001b[0m\u001b[1;33m\u001b[0m\u001b[0m\n\u001b[0m",
      "\u001b[1;31mKeyError\u001b[0m: 0"
     ]
    }
   ],
   "source": [
    "a[0]"
   ]
  },
  {
   "cell_type": "code",
   "execution_count": null,
   "metadata": {
    "collapsed": true
   },
   "outputs": [],
   "source": [
    "class Solution(object):\n",
    "    def minWindow(self, s, t):\n",
    "        from collections import deque\n",
    "        \"\"\"\n",
    "        :type s: str\n",
    "        :type t: str\n",
    "        :rtype: str\n",
    "        \"\"\"\n",
    "        len(t)\n",
    "        T = {tt:-1 for tt in t}\n",
    "        d = deque()\n",
    "        \n",
    "        \n",
    "        l = -1\n",
    "        h = -1\n",
    "        \n",
    "        length = len(s)\n",
    "        num = length+1\n",
    "        for i in range(length):\n",
    "            print '#', i\n",
    "            print T\n",
    "            print d\n",
    "            if s[i] in T:\n",
    "                T[s[i]] = i\n",
    "                d.append( (s[i], i) )\n",
    "                \n",
    "                # relive\n",
    "                while len(d) > 0:\n",
    "                    if d[0][1] == T[d[0][0]]:\n",
    "                        break\n",
    "                    else:\n",
    "                        d.popleft()\n",
    "            \n",
    "            if len(d) == len(t) and d[-1][1] - d[0][1] < num:\n",
    "                num = d[-1][1] - d[0][1]\n",
    "                l = d[0][1]\n",
    "                h = d[-1][1]\n",
    "\n",
    "        return s[l:h+1]"
   ]
  },
  {
   "cell_type": "code",
   "execution_count": 3,
   "metadata": {
    "collapsed": false
   },
   "outputs": [],
   "source": [
    "from collections import deque\n",
    "a = deque([1,2,3])"
   ]
  },
  {
   "cell_type": "code",
   "execution_count": 4,
   "metadata": {
    "collapsed": true
   },
   "outputs": [],
   "source": [
    "aa =a.popleft()"
   ]
  },
  {
   "cell_type": "code",
   "execution_count": 5,
   "metadata": {
    "collapsed": false
   },
   "outputs": [
    {
     "data": {
      "text/plain": [
       "1"
      ]
     },
     "execution_count": 5,
     "metadata": {},
     "output_type": "execute_result"
    }
   ],
   "source": [
    "\n",
    "aa"
   ]
  },
  {
   "cell_type": "code",
   "execution_count": null,
   "metadata": {
    "collapsed": true
   },
   "outputs": [],
   "source": []
  }
 ],
 "metadata": {
  "kernelspec": {
   "display_name": "Python 2",
   "language": "python",
   "name": "python2"
  },
  "language_info": {
   "codemirror_mode": {
    "name": "ipython",
    "version": 2
   },
   "file_extension": ".py",
   "mimetype": "text/x-python",
   "name": "python",
   "nbconvert_exporter": "python",
   "pygments_lexer": "ipython2",
   "version": "2.7.6"
  }
 },
 "nbformat": 4,
 "nbformat_minor": 0
}
