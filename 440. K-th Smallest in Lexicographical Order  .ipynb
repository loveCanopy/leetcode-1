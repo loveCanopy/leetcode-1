{
 "cells": [
  {
   "cell_type": "code",
   "execution_count": 33,
   "metadata": {
    "collapsed": false
   },
   "outputs": [
    {
     "data": {
      "text/plain": [
       "undefined"
      ]
     },
     "execution_count": 33,
     "metadata": {},
     "output_type": "execute_result"
    }
   ],
   "source": [
    "/**\n",
    " * @param {number} n\n",
    " * @param {number} k\n",
    " * @return {number}\n",
    " */\n",
    "var findKthNumber = function(n, k) {\n",
    "    var L = [];\n",
    "    for(var i=0; i<n; i++) {\n",
    "        L.push(i+1);\n",
    "    }\n",
    "    return parseInt(L.map(function(num){return num.toString();})\n",
    "                    .sort()[k-1])\n",
    "};"
   ]
  },
  {
   "cell_type": "code",
   "execution_count": 86,
   "metadata": {
    "collapsed": false
   },
   "outputs": [
    {
     "data": {
      "text/plain": [
       "118"
      ]
     },
     "execution_count": 86,
     "metadata": {},
     "output_type": "execute_result"
    }
   ],
   "source": [
    "findKthNumber(300,22)"
   ]
  },
  {
   "cell_type": "code",
   "execution_count": 34,
   "metadata": {
    "collapsed": false
   },
   "outputs": [
    {
     "data": {
      "text/plain": [
       "10"
      ]
     },
     "execution_count": 34,
     "metadata": {},
     "output_type": "execute_result"
    }
   ],
   "source": [
    "/**\n",
    " * @param {number} n\n",
    " * @param {number} k\n",
    " * @return {number}\n",
    " */\n",
    "var findKthNumber = function(n, k) {\n",
    "    var amount = function(n, prefix) {\n",
    "        var p = parseInt(prefix);\n",
    "        var a = 0;\n",
    "\n",
    "        for (var first = p, last = p + 1; \n",
    "             first <= n; \n",
    "             first *= 10, last *= 10)\n",
    "        {\n",
    "            a += min(n + 1, last) - first;\n",
    "        }\n",
    "    }\n",
    "    \n",
    "    var find = function(n, prefix, k) {\n",
    "        var count = amount(n, prefix);\n",
    "        var res = count - k;\n",
    "\n",
    "        for (var i = 0; i <= 9; i++) {\n",
    "            k -= count;\n",
    "        }\n",
    "        if (res >= 0) {\n",
    "            return res;\n",
    "        }\n",
    "    }\n",
    "    \n",
    "    \n",
    "};"
   ]
  },
  {
   "cell_type": "code",
   "execution_count": 48,
   "metadata": {
    "collapsed": false
   },
   "outputs": [
    {
     "data": {
      "text/plain": [
       "1007"
      ]
     },
     "execution_count": 48,
     "metadata": {},
     "output_type": "execute_result"
    }
   ],
   "source": [
    "function findKthNumber (n, k) {\n",
    "    let i, prefix = '';\n",
    "    while (k !== 0) {\n",
    "        for (i = 0; i <= 9; i++) {\n",
    "            const count = countForPrefix(n, prefix + i);\n",
    "            if (count < k)\n",
    "                k -= count;\n",
    "            else\n",
    "                break;\n",
    "        }\n",
    "        prefix = prefix + i;\n",
    "        k--; // number equal to prefix\n",
    "    }\n",
    "\n",
    "    return parseInt(prefix, 10);\n",
    "}"
   ]
  },
  {
   "cell_type": "code",
   "execution_count": 52,
   "metadata": {
    "collapsed": false
   },
   "outputs": [
    {
     "data": {
      "text/plain": [
       "'x'"
      ]
     },
     "execution_count": 52,
     "metadata": {},
     "output_type": "execute_result"
    }
   ],
   "source": [
    "a = 'x'"
   ]
  },
  {
   "cell_type": "code",
   "execution_count": 80,
   "metadata": {
    "collapsed": false
   },
   "outputs": [
    {
     "ename": "SyntaxError",
     "evalue": "Unexpected identifier",
     "output_type": "error",
     "traceback": [
      "SyntaxError: Unexpected identifier",
      "    at run ([eval]:179:19)",
      "    at onMessage ([eval]:63:41)",
      "    at process.emit (events.js:98:17)",
      "    at handleMessage (child_process.js:322:10)",
      "    at Pipe.channel.onread (child_process.js:349:11)"
     ]
    }
   ],
   "source": [
    "let a = [];"
   ]
  },
  {
   "cell_type": "code",
   "execution_count": 74,
   "metadata": {
    "collapsed": false
   },
   "outputs": [
    {
     "data": {
      "text/plain": [
       "[ '1',\n",
       "  '1',\n",
       "  '1',\n",
       "  '1',\n",
       "  '1',\n",
       "  '1',\n",
       "  '1',\n",
       "  '1',\n",
       "  '1',\n",
       "  '1',\n",
       "  '1',\n",
       "  '1',\n",
       "  '1',\n",
       "  '1',\n",
       "  '1',\n",
       "  '1',\n",
       "  '1',\n",
       "  '1',\n",
       "  '1',\n",
       "  '1' ]"
      ]
     },
     "execution_count": 74,
     "metadata": {},
     "output_type": "execute_result"
    }
   ],
   "source": [
    "array = Array.apply(null,{length: 20}).map(function() { return '1'; });"
   ]
  },
  {
   "cell_type": "code",
   "execution_count": 75,
   "metadata": {
    "collapsed": false
   },
   "outputs": [
    {
     "data": {
      "text/plain": [
       "'11111111111111111111'"
      ]
     },
     "execution_count": 75,
     "metadata": {},
     "output_type": "execute_result"
    }
   ],
   "source": [
    "x = array.join('')"
   ]
  },
  {
   "cell_type": "code",
   "execution_count": 88,
   "metadata": {
    "collapsed": false
   },
   "outputs": [
    {
     "data": {
      "text/plain": [
       "'11122'"
      ]
     },
     "execution_count": 88,
     "metadata": {},
     "output_type": "execute_result"
    }
   ],
   "source": [
    "'11' + 122"
   ]
  },
  {
   "cell_type": "code",
   "execution_count": null,
   "metadata": {
    "collapsed": true
   },
   "outputs": [],
   "source": []
  }
 ],
 "metadata": {
  "kernelspec": {
   "display_name": "Javascript (Node.js)",
   "language": "javascript",
   "name": "javascript"
  },
  "language_info": {
   "file_extension": "js",
   "mimetype": "application/javascript",
   "name": "javascript",
   "version": "0.10.40"
  }
 },
 "nbformat": 4,
 "nbformat_minor": 0
}
