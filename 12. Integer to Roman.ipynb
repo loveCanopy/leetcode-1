{
 "cells": [
  {
   "cell_type": "code",
   "execution_count": 22,
   "metadata": {
    "collapsed": true
   },
   "outputs": [],
   "source": [
    "class Solution(object):\n",
    "    def intToRoman(self, num):\n",
    "        \"\"\"\n",
    "        :type num: int\n",
    "        :rtype: str\n",
    "        \"\"\"\n",
    "        d2p = {\n",
    "            '0' : '',\n",
    "            '1' : 'o',\n",
    "            '2' : 'oo',\n",
    "            '3' : 'ooo',\n",
    "            '4' : 'of',\n",
    "            '5' : 'f',\n",
    "            '6' : 'fo',\n",
    "            '7' : 'foo',\n",
    "            '8' : 'fooo',\n",
    "            '9' : '1t',\n",
    "        }\n",
    "        def digtal2roman(n, one = 'I', five = 'V', ten = 'X'):\n",
    "            return d2p[n].replace('o', one).replace('f', five).replace('t', ten)\n",
    "        \n",
    "        a3 = digtal2roman(str(num).zfill(4)[0], 'M', '*', '*')\n",
    "        a2 = digtal2roman(str(num).zfill(4)[1], 'C', 'D', 'M')\n",
    "        a1 = digtal2roman(str(num).zfill(4)[2], 'X', 'L', 'C')\n",
    "        a0 = digtal2roman(str(num).zfill(4)[3], 'I', 'V', 'X')\n",
    "        \n",
    "        \n",
    "        return a3 + a2 + a1 + a0\n",
    "         \n",
    "            \n",
    "        "
   ]
  },
  {
   "cell_type": "code",
   "execution_count": 23,
   "metadata": {
    "collapsed": true
   },
   "outputs": [],
   "source": [
    "sl = Solution()"
   ]
  },
  {
   "cell_type": "code",
   "execution_count": 25,
   "metadata": {
    "collapsed": false
   },
   "outputs": [
    {
     "data": {
      "text/plain": [
       "'MCCXXXIV'"
      ]
     },
     "execution_count": 25,
     "metadata": {},
     "output_type": "execute_result"
    }
   ],
   "source": [
    "sl.intToRoman(1234)"
   ]
  },
  {
   "cell_type": "code",
   "execution_count": 10,
   "metadata": {
    "collapsed": false
   },
   "outputs": [],
   "source": [
    "s = 'a' + 'b'"
   ]
  },
  {
   "cell_type": "code",
   "execution_count": 21,
   "metadata": {
    "collapsed": false
   },
   "outputs": [
    {
     "data": {
      "text/plain": [
       "'1'"
      ]
     },
     "execution_count": 21,
     "metadata": {},
     "output_type": "execute_result"
    }
   ],
   "source": [
    "str(1234).zfill(4)[0]"
   ]
  }
 ],
 "metadata": {
  "kernelspec": {
   "display_name": "Python 2",
   "language": "python",
   "name": "python2"
  },
  "language_info": {
   "codemirror_mode": {
    "name": "ipython",
    "version": 2
   },
   "file_extension": ".py",
   "mimetype": "text/x-python",
   "name": "python",
   "nbconvert_exporter": "python",
   "pygments_lexer": "ipython2",
   "version": "2.7.6"
  }
 },
 "nbformat": 4,
 "nbformat_minor": 0
}
